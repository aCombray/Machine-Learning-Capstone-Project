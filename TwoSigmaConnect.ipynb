version https://git-lfs.github.com/spec/v1
oid sha256:cf4ff2c43593a0c2197c296999494ba5b817483615141bcb8d29cfa3d3298062
size 1407306
